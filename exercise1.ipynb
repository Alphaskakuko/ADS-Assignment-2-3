{
  "nbformat": 4,
  "nbformat_minor": 0,
  "metadata": {
    "colab": {
      "provenance": [],
      "gpuType": "T4",
      "authorship_tag": "ABX9TyMIDBbfMwAPauBk79r/UoJD",
      "include_colab_link": true
    },
    "kernelspec": {
      "name": "python3",
      "display_name": "Python 3"
    },
    "language_info": {
      "name": "python"
    },
    "accelerator": "GPU",
    "gpuClass": "standard"
  },
  "cells": [
    {
      "cell_type": "markdown",
      "metadata": {
        "id": "view-in-github",
        "colab_type": "text"
      },
      "source": [
        "<a href=\"https://colab.research.google.com/github/Alphaskakuko/ADS-Assignment-2-3/blob/main/exercise1.ipynb\" target=\"_parent\"><img src=\"https://colab.research.google.com/assets/colab-badge.svg\" alt=\"Open In Colab\"/></a>"
      ]
    },
    {
      "cell_type": "code",
      "execution_count": 1,
      "metadata": {
        "id": "ZOUtXEBrHnYp"
      },
      "outputs": [],
      "source": [
        "import numpy as np\n",
        "import pandas as pd\n",
        "import matplotlib.pyplot as plt\n"
      ]
    },
    {
      "cell_type": "code",
      "source": [
        "import tensorflow as tf\n",
        "from tensorflow import keras"
      ],
      "metadata": {
        "id": "eVn6CPMvIFkt"
      },
      "execution_count": 2,
      "outputs": []
    },
    {
      "cell_type": "code",
      "source": [
        "(x_train, y_train), (x_test, y_test)=tf.keras.datasets.fashion_mnist.load_data()\n"
      ],
      "metadata": {
        "colab": {
          "base_uri": "https://localhost:8080/"
        },
        "id": "GmMWGr6VH5Kp",
        "outputId": "e9a9cdaf-ad9c-4497-a84f-4991e6c8ba01"
      },
      "execution_count": 3,
      "outputs": [
        {
          "output_type": "stream",
          "name": "stdout",
          "text": [
            "Downloading data from https://storage.googleapis.com/tensorflow/tf-keras-datasets/train-labels-idx1-ubyte.gz\n",
            "29515/29515 [==============================] - 0s 0us/step\n",
            "Downloading data from https://storage.googleapis.com/tensorflow/tf-keras-datasets/train-images-idx3-ubyte.gz\n",
            "26421880/26421880 [==============================] - 0s 0us/step\n",
            "Downloading data from https://storage.googleapis.com/tensorflow/tf-keras-datasets/t10k-labels-idx1-ubyte.gz\n",
            "5148/5148 [==============================] - 0s 0us/step\n",
            "Downloading data from https://storage.googleapis.com/tensorflow/tf-keras-datasets/t10k-images-idx3-ubyte.gz\n",
            "4422102/4422102 [==============================] - 0s 0us/step\n"
          ]
        }
      ]
    },
    {
      "cell_type": "code",
      "source": [
        "x_train.shape"
      ],
      "metadata": {
        "colab": {
          "base_uri": "https://localhost:8080/"
        },
        "id": "dXVOE3ZPIipK",
        "outputId": "974a7661-58db-4896-f9fb-c8d84656ea45"
      },
      "execution_count": 4,
      "outputs": [
        {
          "output_type": "execute_result",
          "data": {
            "text/plain": [
              "(60000, 28, 28)"
            ]
          },
          "metadata": {},
          "execution_count": 4
        }
      ]
    },
    {
      "cell_type": "code",
      "source": [
        "x_test.shape"
      ],
      "metadata": {
        "colab": {
          "base_uri": "https://localhost:8080/"
        },
        "id": "Mpm8N2L-I6sg",
        "outputId": "9e8a407a-18cf-427d-fef4-0acf02b32b77"
      },
      "execution_count": 5,
      "outputs": [
        {
          "output_type": "execute_result",
          "data": {
            "text/plain": [
              "(10000, 28, 28)"
            ]
          },
          "metadata": {},
          "execution_count": 5
        }
      ]
    },
    {
      "cell_type": "code",
      "source": [
        "plt.imshow(x_test[0])"
      ],
      "metadata": {
        "colab": {
          "base_uri": "https://localhost:8080/",
          "height": 448
        },
        "id": "hnu9ZWgKJOc9",
        "outputId": "b018d38d-60c2-4d34-c8e8-8df8a67c38dd"
      },
      "execution_count": 6,
      "outputs": [
        {
          "output_type": "execute_result",
          "data": {
            "text/plain": [
              "<matplotlib.image.AxesImage at 0x7f73312b48b0>"
            ]
          },
          "metadata": {},
          "execution_count": 6
        },
        {
          "output_type": "display_data",
          "data": {
            "text/plain": [
              "<Figure size 640x480 with 1 Axes>"
            ],
            "image/png": "[encoded data removed]"
          },
          "metadata": {}
        }
      ]
    },
    {
      "cell_type": "code",
      "source": [
        "y_train[0]"
      ],
      "metadata": {
        "colab": {
          "base_uri": "https://localhost:8080/"
        },
        "id": "-3lHK7G1JYbw",
        "outputId": "84bd737a-63f8-469c-bee7-7d01d3113870"
      },
      "execution_count": 7,
      "outputs": [
        {
          "output_type": "execute_result",
          "data": {
            "text/plain": [
              "9"
            ]
          },
          "metadata": {},
          "execution_count": 7
        }
      ]
    },
    {
      "cell_type": "code",
      "source": [
        "print('print=10')"
      ],
      "metadata": {
        "colab": {
          "base_uri": "https://localhost:8080/"
        },
        "id": "fLrAXsxnJdZ_",
        "outputId": "42508d24-5d80-47cc-d599-519a4852e8a7"
      },
      "execution_count": 8,
      "outputs": [
        {
          "output_type": "stream",
          "name": "stdout",
          "text": [
            "print=10\n"
          ]
        }
      ]
    },
    {
      "cell_type": "code",
      "source": [
        "plt.imshow(x_train[10])"
      ],
      "metadata": {
        "colab": {
          "base_uri": "https://localhost:8080/",
          "height": 448
        },
        "id": "LEh7L_p2KKgT",
        "outputId": "efe7656b-1134-4807-9fd5-ac7330ff3473"
      },
      "execution_count": 9,
      "outputs": [
        {
          "output_type": "execute_result",
          "data": {
            "text/plain": [
              "<matplotlib.image.AxesImage at 0x7f732d86f9d0>"
            ]
          },
          "metadata": {},
          "execution_count": 9
        },
        {
          "output_type": "display_data",
          "data": {
            "text/plain": [
              "<Figure size 640x480 with 1 Axes>"
            ],
            "image/png": "[encoded data removed]"
          },
          "metadata": {}
        }
      ]
    },
    {
      "cell_type": "code",
      "source": [
        "plt.imshow(x_test[10])"
      ],
      "metadata": {
        "colab": {
          "base_uri": "https://localhost:8080/",
          "height": 448
        },
        "id": "arjIVZWDKdkw",
        "outputId": "697dc61f-de3a-49de-d817-e0e9558bc6a4"
      },
      "execution_count": 10,
      "outputs": [
        {
          "output_type": "execute_result",
          "data": {
            "text/plain": [
              "<matplotlib.image.AxesImage at 0x7f732d7690f0>"
            ]
          },
          "metadata": {},
          "execution_count": 10
        },
        {
          "output_type": "display_data",
          "data": {
            "text/plain": [
              "<Figure size 640x480 with 1 Axes>"
            ],
            "image/png": "[encoded data removed]"
          },
          "metadata": {}
        }
      ]
    },
    {
      "cell_type": "code",
      "source": [
        "x_train[0]"
      ],
      "metadata": {
        "colab": {
          "base_uri": "https://localhost:8080/"
        },
        "id": "Gv06VgExKnga",
        "outputId": "1c787cc4-4387-41de-8d9c-3d7382be090e"
      },
      "execution_count": 13,
      "outputs": [
        {
          "output_type": "execute_result",
          "data": {
            "text/plain": [
              "array([[  0,   0,   0,   0,   0,   0,   0,   0,   0,   0,   0,   0,   0,\n",
              "          0,   0,   0,   0,   0,   0,   0,   0,   0,   0,   0,   0,   0,\n",
              "          0,   0],\n",
              "       [  0,   0,   0,   0,   0,   0,   0,   0,   0,   0,   0,   0,   0,\n",
              "          0,   0,   0,   0,   0,   0,   0,   0,   0,   0,   0,   0,   0,\n",
              "          0,   0],\n",
              "       [  0,   0,   0,   0,   0,   0,   0,   0,   0,   0,   0,   0,   0,\n",
              "          0,   0,   0,   0,   0,   0,   0,   0,   0,   0,   0,   0,   0,\n",
              "          0,   0],\n",
              "       [  0,   0,   0,   0,   0,   0,   0,   0,   0,   0,   0,   0,   1,\n",
              "          0,   0,  13,  73,   0,   0,   1,   4,   0,   0,   0,   0,   1,\n",
              "          1,   0],\n",
              "       [  0,   0,   0,   0,   0,   0,   0,   0,   0,   0,   0,   0,   3,\n",
              "          0,  36, 136, 127,  62,  54,   0,   0,   0,   1,   3,   4,   0,\n",
              "          0,   3],\n",
              "       [  0,   0,   0,   0,   0,   0,   0,   0,   0,   0,   0,   0,   6,\n",
              "          0, 102, 204, 176, 134, 144, 123,  23,   0,   0,   0,   0,  12,\n",
              "         10,   0],\n",
              "       [  0,   0,   0,   0,   0,   0,   0,   0,   0,   0,   0,   0,   0,\n",
              "          0, 155, 236, 207, 178, 107, 156, 161, 109,  64,  23,  77, 130,\n",
              "         72,  15],\n",
              "       [  0,   0,   0,   0,   0,   0,   0,   0,   0,   0,   0,   1,   0,\n",
              "         69, 207, 223, 218, 216, 216, 163, 127, 121, 122, 146, 141,  88,\n",
              "        172,  66],\n",
              "       [  0,   0,   0,   0,   0,   0,   0,   0,   0,   1,   1,   1,   0,\n",
              "        200, 232, 232, 233, 229, 223, 223, 215, 213, 164, 127, 123, 196,\n",
              "        229,   0],\n",
              "       [  0,   0,   0,   0,   0,   0,   0,   0,   0,   0,   0,   0,   0,\n",
              "        183, 225, 216, 223, 228, 235, 227, 224, 222, 224, 221, 223, 245,\n",
              "        173,   0],\n",
              "       [  0,   0,   0,   0,   0,   0,   0,   0,   0,   0,   0,   0,   0,\n",
              "        193, 228, 218, 213, 198, 180, 212, 210, 211, 213, 223, 220, 243,\n",
              "        202,   0],\n",
              "       [  0,   0,   0,   0,   0,   0,   0,   0,   0,   1,   3,   0,  12,\n",
              "        219, 220, 212, 218, 192, 169, 227, 208, 218, 224, 212, 226, 197,\n",
              "        209,  52],\n",
              "       [  0,   0,   0,   0,   0,   0,   0,   0,   0,   0,   6,   0,  99,\n",
              "        244, 222, 220, 218, 203, 198, 221, 215, 213, 222, 220, 245, 119,\n",
              "        167,  56],\n",
              "       [  0,   0,   0,   0,   0,   0,   0,   0,   0,   4,   0,   0,  55,\n",
              "        236, 228, 230, 228, 240, 232, 213, 218, 223, 234, 217, 217, 209,\n",
              "         92,   0],\n",
              "       [  0,   0,   1,   4,   6,   7,   2,   0,   0,   0,   0,   0, 237,\n",
              "        226, 217, 223, 222, 219, 222, 221, 216, 223, 229, 215, 218, 255,\n",
              "         77,   0],\n",
              "       [  0,   3,   0,   0,   0,   0,   0,   0,   0,  62, 145, 204, 228,\n",
              "        207, 213, 221, 218, 208, 211, 218, 224, 223, 219, 215, 224, 244,\n",
              "        159,   0],\n",
              "       [  0,   0,   0,   0,  18,  44,  82, 107, 189, 228, 220, 222, 217,\n",
              "        226, 200, 205, 211, 230, 224, 234, 176, 188, 250, 248, 233, 238,\n",
              "        215,   0],\n",
              "       [  0,  57, 187, 208, 224, 221, 224, 208, 204, 214, 208, 209, 200,\n",
              "        159, 245, 193, 206, 223, 255, 255, 221, 234, 221, 211, 220, 232,\n",
              "        246,   0],\n",
              "       [  3, 202, 228, 224, 221, 211, 211, 214, 205, 205, 205, 220, 240,\n",
              "         80, 150, 255, 229, 221, 188, 154, 191, 210, 204, 209, 222, 228,\n",
              "        225,   0],\n",
              "       [ 98, 233, 198, 210, 222, 229, 229, 234, 249, 220, 194, 215, 217,\n",
              "        241,  65,  73, 106, 117, 168, 219, 221, 215, 217, 223, 223, 224,\n",
              "        229,  29],\n",
              "       [ 75, 204, 212, 204, 193, 205, 211, 225, 216, 185, 197, 206, 198,\n",
              "        213, 240, 195, 227, 245, 239, 223, 218, 212, 209, 222, 220, 221,\n",
              "        230,  67],\n",
              "       [ 48, 203, 183, 194, 213, 197, 185, 190, 194, 192, 202, 214, 219,\n",
              "        221, 220, 236, 225, 216, 199, 206, 186, 181, 177, 172, 181, 205,\n",
              "        206, 115],\n",
              "       [  0, 122, 219, 193, 179, 171, 183, 196, 204, 210, 213, 207, 211,\n",
              "        210, 200, 196, 194, 191, 195, 191, 198, 192, 176, 156, 167, 177,\n",
              "        210,  92],\n",
              "       [  0,   0,  74, 189, 212, 191, 175, 172, 175, 181, 185, 188, 189,\n",
              "        188, 193, 198, 204, 209, 210, 210, 211, 188, 188, 194, 192, 216,\n",
              "        170,   0],\n",
              "       [  2,   0,   0,   0,  66, 200, 222, 237, 239, 242, 246, 243, 244,\n",
              "        221, 220, 193, 191, 179, 182, 182, 181, 176, 166, 168,  99,  58,\n",
              "          0,   0],\n",
              "       [  0,   0,   0,   0,   0,   0,   0,  40,  61,  44,  72,  41,  35,\n",
              "          0,   0,   0,   0,   0,   0,   0,   0,   0,   0,   0,   0,   0,\n",
              "          0,   0],\n",
              "       [  0,   0,   0,   0,   0,   0,   0,   0,   0,   0,   0,   0,   0,\n",
              "          0,   0,   0,   0,   0,   0,   0,   0,   0,   0,   0,   0,   0,\n",
              "          0,   0],\n",
              "       [  0,   0,   0,   0,   0,   0,   0,   0,   0,   0,   0,   0,   0,\n",
              "          0,   0,   0,   0,   0,   0,   0,   0,   0,   0,   0,   0,   0,\n",
              "          0,   0]], dtype=uint8)"
            ]
          },
          "metadata": {},
          "execution_count": 13
        }
      ]
    },
    {
      "cell_type": "code",
      "source": [
        "x_train[0].shape"
      ],
      "metadata": {
        "colab": {
          "base_uri": "https://localhost:8080/"
        },
        "id": "1NCCAb9HLGbA",
        "outputId": "c06f53cb-4ec4-43f7-98aa-eb64e64f96da"
      },
      "execution_count": 14,
      "outputs": [
        {
          "output_type": "execute_result",
          "data": {
            "text/plain": [
              "(28, 28)"
            ]
          },
          "metadata": {},
          "execution_count": 14
        }
      ]
    },
    {
      "cell_type": "code",
      "source": [
        "x_train.shape"
      ],
      "metadata": {
        "colab": {
          "base_uri": "https://localhost:8080/"
        },
        "id": "d-z97xOGLNKY",
        "outputId": "2d2dd3b0-c055-4eaf-80b1-421596d0fd59"
      },
      "execution_count": 15,
      "outputs": [
        {
          "output_type": "execute_result",
          "data": {
            "text/plain": [
              "(60000, 28, 28)"
            ]
          },
          "metadata": {},
          "execution_count": 15
        }
      ]
    },
    {
      "cell_type": "code",
      "source": [
        "x_train_scaled=x_train/255\n",
        "x_test_scaled=x_test/255"
      ],
      "metadata": {
        "id": "ZC43RZy8LR1x"
      },
      "execution_count": 16,
      "outputs": []
    },
    {
      "cell_type": "code",
      "source": [
        "from keras.engine.training import optimizer\n",
        "from keras.api._v2.keras import activations\n",
        "model_1=keras.Sequential([\n",
        "    keras.layers.Flatten(input_shape=(28,28)),\n",
        "    keras.layers.Dense(300,activation='relu'),\n",
        "    keras.layers.Dense(500,activation='relu'),\n",
        "    keras.layers.Dense(100,activation='relu'),\n",
        "    keras.layers.Dense(10,activation='softmax')\n",
        "\n",
        "])\n",
        "model_1.compile(optimizer='adam',loss='sparse_categorical_crossentropy',metrics=['accuracy'])"
      ],
      "metadata": {
        "id": "FpFJ0UtrLuJC"
      },
      "execution_count": 18,
      "outputs": []
    },
    {
      "cell_type": "code",
      "source": [
        "model_1.summary()"
      ],
      "metadata": {
        "colab": {
          "base_uri": "https://localhost:8080/"
        },
        "id": "h_ObkcZkPGRs",
        "outputId": "a06f1cc8-3068-4148-ccda-ce9a4a1cafb1"
      },
      "execution_count": 19,
      "outputs": [
        {
          "output_type": "stream",
          "name": "stdout",
          "text": [
            "Model: \"sequential_1\"\n",
            "_________________________________________________________________\n",
            " Layer (type)                Output Shape              Param #   \n",
            "=================================================================\n",
            " flatten_1 (Flatten)         (None, 784)               0         \n",
            "                                                                 \n",
            " dense_4 (Dense)             (None, 300)               235500    \n",
            "                                                                 \n",
            " dense_5 (Dense)             (None, 500)               150500    \n",
            "                                                                 \n",
            " dense_6 (Dense)             (None, 100)               50100     \n",
            "                                                                 \n",
            " dense_7 (Dense)             (None, 10)                1010      \n",
            "                                                                 \n",
            "=================================================================\n",
            "Total params: 437,110\n",
            "Trainable params: 437,110\n",
            "Non-trainable params: 0\n",
            "_________________________________________________________________\n"
          ]
        }
      ]
    },
    {
      "cell_type": "code",
      "source": [
        "model_1.fit(x_train_scaled,y_train,epochs=50)"
      ],
      "metadata": {
        "colab": {
          "base_uri": "https://localhost:8080/"
        },
        "id": "N9KK1_pYPvzp",
        "outputId": "98e91350-bce9-432f-dd70-046c0bdf11d9"
      },
      "execution_count": 20,
      "outputs": [
        {
          "output_type": "stream",
          "name": "stdout",
          "text": [
            "Epoch 1/50\n",
            "1875/1875 [==============================] - 12s 3ms/step - loss: 0.4766 - accuracy: 0.8278\n",
            "Epoch 2/50\n",
            "1875/1875 [==============================] - 5s 3ms/step - loss: 0.3595 - accuracy: 0.8680\n",
            "Epoch 3/50\n",
            "1875/1875 [==============================] - 6s 3ms/step - loss: 0.3263 - accuracy: 0.8791\n",
            "Epoch 4/50\n",
            "1875/1875 [==============================] - 5s 3ms/step - loss: 0.3026 - accuracy: 0.8870\n",
            "Epoch 5/50\n",
            "1875/1875 [==============================] - 6s 3ms/step - loss: 0.2840 - accuracy: 0.8945\n",
            "Epoch 6/50\n",
            "1875/1875 [==============================] - 6s 3ms/step - loss: 0.2697 - accuracy: 0.8992\n",
            "Epoch 7/50\n",
            "1875/1875 [==============================] - 5s 3ms/step - loss: 0.2603 - accuracy: 0.9030\n",
            "Epoch 8/50\n",
            "1875/1875 [==============================] - 6s 3ms/step - loss: 0.2464 - accuracy: 0.9080\n",
            "Epoch 9/50\n",
            "1875/1875 [==============================] - 5s 3ms/step - loss: 0.2372 - accuracy: 0.9101\n",
            "Epoch 10/50\n",
            "1875/1875 [==============================] - 6s 3ms/step - loss: 0.2273 - accuracy: 0.9136\n",
            "Epoch 11/50\n",
            "1875/1875 [==============================] - 5s 3ms/step - loss: 0.2179 - accuracy: 0.9166\n",
            "Epoch 12/50\n",
            "1875/1875 [==============================] - 6s 3ms/step - loss: 0.2125 - accuracy: 0.9203\n",
            "Epoch 13/50\n",
            "1875/1875 [==============================] - 5s 3ms/step - loss: 0.2020 - accuracy: 0.9233\n",
            "Epoch 14/50\n",
            "1875/1875 [==============================] - 6s 3ms/step - loss: 0.1959 - accuracy: 0.9255\n",
            "Epoch 15/50\n",
            "1875/1875 [==============================] - 5s 3ms/step - loss: 0.1941 - accuracy: 0.9247\n",
            "Epoch 16/50\n",
            "1875/1875 [==============================] - 6s 3ms/step - loss: 0.1853 - accuracy: 0.9289\n",
            "Epoch 17/50\n",
            "1875/1875 [==============================] - 5s 3ms/step - loss: 0.1793 - accuracy: 0.9318\n",
            "Epoch 18/50\n",
            "1875/1875 [==============================] - 6s 3ms/step - loss: 0.1713 - accuracy: 0.9336\n",
            "Epoch 19/50\n",
            "1875/1875 [==============================] - 5s 3ms/step - loss: 0.1672 - accuracy: 0.9353\n",
            "Epoch 20/50\n",
            "1875/1875 [==============================] - 5s 3ms/step - loss: 0.1680 - accuracy: 0.9364\n",
            "Epoch 21/50\n",
            "1875/1875 [==============================] - 6s 3ms/step - loss: 0.1580 - accuracy: 0.9390\n",
            "Epoch 22/50\n",
            "1875/1875 [==============================] - 5s 3ms/step - loss: 0.1590 - accuracy: 0.9390\n",
            "Epoch 23/50\n",
            "1875/1875 [==============================] - 6s 3ms/step - loss: 0.1514 - accuracy: 0.9416\n",
            "Epoch 24/50\n",
            "1875/1875 [==============================] - 5s 3ms/step - loss: 0.1468 - accuracy: 0.9435\n",
            "Epoch 25/50\n",
            "1875/1875 [==============================] - 6s 3ms/step - loss: 0.1441 - accuracy: 0.9453\n",
            "Epoch 26/50\n",
            "1875/1875 [==============================] - 5s 3ms/step - loss: 0.1405 - accuracy: 0.9447\n",
            "Epoch 27/50\n",
            "1875/1875 [==============================] - 6s 3ms/step - loss: 0.1369 - accuracy: 0.9471\n",
            "Epoch 28/50\n",
            "1875/1875 [==============================] - 5s 3ms/step - loss: 0.1341 - accuracy: 0.9491\n",
            "Epoch 29/50\n",
            "1875/1875 [==============================] - 6s 3ms/step - loss: 0.1324 - accuracy: 0.9486\n",
            "Epoch 30/50\n",
            "1875/1875 [==============================] - 5s 3ms/step - loss: 0.1297 - accuracy: 0.9506\n",
            "Epoch 31/50\n",
            "1875/1875 [==============================] - 6s 3ms/step - loss: 0.1251 - accuracy: 0.9512\n",
            "Epoch 32/50\n",
            "1875/1875 [==============================] - 6s 3ms/step - loss: 0.1233 - accuracy: 0.9542\n",
            "Epoch 33/50\n",
            "1875/1875 [==============================] - 6s 3ms/step - loss: 0.1169 - accuracy: 0.9552\n",
            "Epoch 34/50\n",
            "1875/1875 [==============================] - 6s 3ms/step - loss: 0.1166 - accuracy: 0.9545\n",
            "Epoch 35/50\n",
            "1875/1875 [==============================] - 5s 3ms/step - loss: 0.1143 - accuracy: 0.9560\n",
            "Epoch 36/50\n",
            "1875/1875 [==============================] - 6s 3ms/step - loss: 0.1109 - accuracy: 0.9573\n",
            "Epoch 37/50\n",
            "1875/1875 [==============================] - 5s 3ms/step - loss: 0.1113 - accuracy: 0.9584\n",
            "Epoch 38/50\n",
            "1875/1875 [==============================] - 6s 3ms/step - loss: 0.1099 - accuracy: 0.9582\n",
            "Epoch 39/50\n",
            "1875/1875 [==============================] - 6s 3ms/step - loss: 0.1040 - accuracy: 0.9600\n",
            "Epoch 40/50\n",
            "1875/1875 [==============================] - 6s 3ms/step - loss: 0.1033 - accuracy: 0.9600\n",
            "Epoch 41/50\n",
            "1875/1875 [==============================] - 5s 3ms/step - loss: 0.1029 - accuracy: 0.9618\n",
            "Epoch 42/50\n",
            "1875/1875 [==============================] - 6s 3ms/step - loss: 0.1031 - accuracy: 0.9616\n",
            "Epoch 43/50\n",
            "1875/1875 [==============================] - 5s 3ms/step - loss: 0.0910 - accuracy: 0.9647\n",
            "Epoch 44/50\n",
            "1875/1875 [==============================] - 6s 3ms/step - loss: 0.0975 - accuracy: 0.9627\n",
            "Epoch 45/50\n",
            "1875/1875 [==============================] - 5s 3ms/step - loss: 0.0980 - accuracy: 0.9631\n",
            "Epoch 46/50\n",
            "1875/1875 [==============================] - 6s 3ms/step - loss: 0.0945 - accuracy: 0.9646\n",
            "Epoch 47/50\n",
            "1875/1875 [==============================] - 5s 3ms/step - loss: 0.0923 - accuracy: 0.9658\n",
            "Epoch 48/50\n",
            "1875/1875 [==============================] - 5s 3ms/step - loss: 0.0891 - accuracy: 0.9659\n",
            "Epoch 49/50\n",
            "1875/1875 [==============================] - 6s 3ms/step - loss: 0.0882 - accuracy: 0.9663\n",
            "Epoch 50/50\n",
            "1875/1875 [==============================] - 5s 3ms/step - loss: 0.0897 - accuracy: 0.9668\n"
          ]
        },
        {
          "output_type": "execute_result",
          "data": {
            "text/plain": [
              "<keras.callbacks.History at 0x7f732ced9150>"
            ]
          },
          "metadata": {},
          "execution_count": 20
        }
      ]
    },
    {
      "cell_type": "code",
      "source": [
        "#predict test data\n",
        "y_pred=model_1.predict(x_test_scaled)"
      ],
      "metadata": {
        "colab": {
          "base_uri": "https://localhost:8080/"
        },
        "id": "qElv-KwcSIfg",
        "outputId": "cbeae0d6-9f64-4dab-e474-8bdbe7775657"
      },
      "execution_count": 21,
      "outputs": [
        {
          "output_type": "stream",
          "name": "stdout",
          "text": [
            "313/313 [==============================] - 1s 2ms/step\n"
          ]
        }
      ]
    },
    {
      "cell_type": "code",
      "source": [
        "y_pred"
      ],
      "metadata": {
        "colab": {
          "base_uri": "https://localhost:8080/"
        },
        "id": "RE8c6T_YTTB-",
        "outputId": "a3e17565-8866-4131-d2ed-51e7b3aad2fa"
      },
      "execution_count": 22,
      "outputs": [
        {
          "output_type": "execute_result",
          "data": {
            "text/plain": [
              "array([[8.42886091e-13, 2.94177660e-08, 1.51691692e-14, ...,\n",
              "        1.54898532e-06, 1.12583740e-14, 9.92108285e-01],\n",
              "       [2.12473560e-06, 8.95066620e-27, 9.99965429e-01, ...,\n",
              "        1.61777783e-35, 1.61215649e-16, 3.05135066e-24],\n",
              "       [0.00000000e+00, 1.00000000e+00, 0.00000000e+00, ...,\n",
              "        0.00000000e+00, 0.00000000e+00, 0.00000000e+00],\n",
              "       ...,\n",
              "       [3.55941180e-24, 3.75211549e-21, 2.53237549e-29, ...,\n",
              "        1.47051475e-30, 1.00000000e+00, 0.00000000e+00],\n",
              "       [0.00000000e+00, 1.00000000e+00, 0.00000000e+00, ...,\n",
              "        0.00000000e+00, 0.00000000e+00, 0.00000000e+00],\n",
              "       [4.21062944e-27, 0.00000000e+00, 7.71508093e-33, ...,\n",
              "        2.19441303e-24, 1.05257982e-20, 7.13060383e-33]], dtype=float32)"
            ]
          },
          "metadata": {},
          "execution_count": 22
        }
      ]
    },
    {
      "cell_type": "code",
      "source": [
        "y_pred_test=[np.argmax(i) for i in y_pred]"
      ],
      "metadata": {
        "id": "Wf9mNf53TknP"
      },
      "execution_count": 23,
      "outputs": []
    },
    {
      "cell_type": "code",
      "source": [
        "y_pred_test"
      ],
      "metadata": {
        "colab": {
          "base_uri": "https://localhost:8080/"
        },
        "id": "t84-hUyzVZL7",
        "outputId": "50c30005-0676-4927-88b8-ba6a7425aaad"
      },
      "execution_count": 24,
      "outputs": [
        {
          "output_type": "execute_result",
          "data": {
            "text/plain": [
              "[9,\n",
              " 2,\n",
              " 1,\n",
              " 1,\n",
              " 0,\n",
              " 1,\n",
              " 4,\n",
              " 6,\n",
              " 5,\n",
              " 7,\n",
              " 4,\n",
              " 5,\n",
              " 5,\n",
              " 3,\n",
              " 4,\n",
              " 1,\n",
              " 2,\n",
              " 2,\n",
              " 8,\n",
              " 0,\n",
              " 2,\n",
              " 5,\n",
              " 7,\n",
              " 5,\n",
              " 1,\n",
              " 4,\n",
              " 6,\n",
              " 0,\n",
              " 9,\n",
              " 3,\n",
              " 8,\n",
              " 8,\n",
              " 3,\n",
              " 3,\n",
              " 8,\n",
              " 0,\n",
              " 7,\n",
              " 5,\n",
              " 7,\n",
              " 9,\n",
              " 0,\n",
              " 1,\n",
              " 6,\n",
              " 7,\n",
              " 6,\n",
              " 7,\n",
              " 2,\n",
              " 1,\n",
              " 6,\n",
              " 6,\n",
              " 4,\n",
              " 2,\n",
              " 5,\n",
              " 8,\n",
              " 2,\n",
              " 2,\n",
              " 8,\n",
              " 6,\n",
              " 8,\n",
              " 0,\n",
              " 7,\n",
              " 7,\n",
              " 8,\n",
              " 5,\n",
              " 1,\n",
              " 1,\n",
              " 6,\n",
              " 3,\n",
              " 7,\n",
              " 8,\n",
              " 7,\n",
              " 0,\n",
              " 2,\n",
              " 6,\n",
              " 2,\n",
              " 3,\n",
              " 1,\n",
              " 2,\n",
              " 8,\n",
              " 4,\n",
              " 1,\n",
              " 8,\n",
              " 5,\n",
              " 9,\n",
              " 5,\n",
              " 0,\n",
              " 3,\n",
              " 2,\n",
              " 0,\n",
              " 2,\n",
              " 5,\n",
              " 3,\n",
              " 6,\n",
              " 7,\n",
              " 1,\n",
              " 8,\n",
              " 0,\n",
              " 1,\n",
              " 2,\n",
              " 2,\n",
              " 3,\n",
              " 6,\n",
              " 7,\n",
              " 6,\n",
              " 7,\n",
              " 8,\n",
              " 5,\n",
              " 7,\n",
              " 9,\n",
              " 4,\n",
              " 2,\n",
              " 5,\n",
              " 7,\n",
              " 0,\n",
              " 5,\n",
              " 2,\n",
              " 8,\n",
              " 6,\n",
              " 7,\n",
              " 8,\n",
              " 0,\n",
              " 0,\n",
              " 9,\n",
              " 9,\n",
              " 0,\n",
              " 0,\n",
              " 8,\n",
              " 6,\n",
              " 1,\n",
              " 5,\n",
              " 4,\n",
              " 1,\n",
              " 9,\n",
              " 1,\n",
              " 8,\n",
              " 6,\n",
              " 6,\n",
              " 1,\n",
              " 2,\n",
              " 5,\n",
              " 1,\n",
              " 0,\n",
              " 0,\n",
              " 0,\n",
              " 1,\n",
              " 6,\n",
              " 1,\n",
              " 3,\n",
              " 2,\n",
              " 2,\n",
              " 3,\n",
              " 4,\n",
              " 1,\n",
              " 3,\n",
              " 5,\n",
              " 0,\n",
              " 4,\n",
              " 7,\n",
              " 9,\n",
              " 3,\n",
              " 7,\n",
              " 2,\n",
              " 3,\n",
              " 5,\n",
              " 0,\n",
              " 9,\n",
              " 4,\n",
              " 7,\n",
              " 4,\n",
              " 2,\n",
              " 0,\n",
              " 5,\n",
              " 6,\n",
              " 1,\n",
              " 2,\n",
              " 1,\n",
              " 3,\n",
              " 0,\n",
              " 9,\n",
              " 1,\n",
              " 0,\n",
              " 9,\n",
              " 3,\n",
              " 6,\n",
              " 7,\n",
              " 9,\n",
              " 9,\n",
              " 4,\n",
              " 4,\n",
              " 7,\n",
              " 1,\n",
              " 2,\n",
              " 3,\n",
              " 6,\n",
              " 3,\n",
              " 2,\n",
              " 8,\n",
              " 3,\n",
              " 6,\n",
              " 1,\n",
              " 1,\n",
              " 0,\n",
              " 2,\n",
              " 9,\n",
              " 2,\n",
              " 4,\n",
              " 0,\n",
              " 7,\n",
              " 9,\n",
              " 8,\n",
              " 4,\n",
              " 1,\n",
              " 8,\n",
              " 4,\n",
              " 1,\n",
              " 3,\n",
              " 1,\n",
              " 6,\n",
              " 7,\n",
              " 2,\n",
              " 8,\n",
              " 5,\n",
              " 3,\n",
              " 0,\n",
              " 7,\n",
              " 7,\n",
              " 6,\n",
              " 6,\n",
              " 7,\n",
              " 0,\n",
              " 7,\n",
              " 8,\n",
              " 9,\n",
              " 2,\n",
              " 9,\n",
              " 0,\n",
              " 5,\n",
              " 1,\n",
              " 4,\n",
              " 2,\n",
              " 5,\n",
              " 4,\n",
              " 9,\n",
              " 2,\n",
              " 0,\n",
              " 8,\n",
              " 6,\n",
              " 4,\n",
              " 2,\n",
              " 2,\n",
              " 9,\n",
              " 7,\n",
              " 6,\n",
              " 5,\n",
              " 5,\n",
              " 2,\n",
              " 8,\n",
              " 5,\n",
              " 2,\n",
              " 3,\n",
              " 0,\n",
              " 4,\n",
              " 8,\n",
              " 0,\n",
              " 0,\n",
              " 6,\n",
              " 3,\n",
              " 8,\n",
              " 9,\n",
              " 6,\n",
              " 1,\n",
              " 6,\n",
              " 0,\n",
              " 2,\n",
              " 3,\n",
              " 0,\n",
              " 8,\n",
              " 3,\n",
              " 7,\n",
              " 4,\n",
              " 0,\n",
              " 1,\n",
              " 2,\n",
              " 3,\n",
              " 0,\n",
              " 6,\n",
              " 8,\n",
              " 7,\n",
              " 5,\n",
              " 4,\n",
              " 2,\n",
              " 9,\n",
              " 5,\n",
              " 6,\n",
              " 5,\n",
              " 5,\n",
              " 1,\n",
              " 9,\n",
              " 8,\n",
              " 8,\n",
              " 3,\n",
              " 3,\n",
              " 6,\n",
              " 8,\n",
              " 0,\n",
              " 0,\n",
              " 2,\n",
              " 9,\n",
              " 7,\n",
              " 7,\n",
              " 1,\n",
              " 3,\n",
              " 6,\n",
              " 4,\n",
              " 6,\n",
              " 4,\n",
              " 7,\n",
              " 1,\n",
              " 6,\n",
              " 4,\n",
              " 8,\n",
              " 2,\n",
              " 6,\n",
              " 5,\n",
              " 6,\n",
              " 2,\n",
              " 7,\n",
              " 7,\n",
              " 7,\n",
              " 3,\n",
              " 3,\n",
              " 7,\n",
              " 0,\n",
              " 7,\n",
              " 1,\n",
              " 3,\n",
              " 7,\n",
              " 2,\n",
              " 2,\n",
              " 3,\n",
              " 4,\n",
              " 0,\n",
              " 3,\n",
              " 1,\n",
              " 6,\n",
              " 1,\n",
              " 9,\n",
              " 4,\n",
              " 9,\n",
              " 9,\n",
              " 1,\n",
              " 7,\n",
              " 8,\n",
              " 3,\n",
              " 6,\n",
              " 0,\n",
              " 2,\n",
              " 4,\n",
              " 8,\n",
              " 0,\n",
              " 1,\n",
              " 6,\n",
              " 2,\n",
              " 4,\n",
              " 4,\n",
              " 7,\n",
              " 3,\n",
              " 2,\n",
              " 6,\n",
              " 5,\n",
              " 0,\n",
              " 7,\n",
              " 9,\n",
              " 4,\n",
              " 6,\n",
              " 9,\n",
              " 3,\n",
              " 9,\n",
              " 3,\n",
              " 2,\n",
              " 5,\n",
              " 6,\n",
              " 0,\n",
              " 3,\n",
              " 5,\n",
              " 8,\n",
              " 1,\n",
              " 6,\n",
              " 2,\n",
              " 6,\n",
              " 6,\n",
              " 4,\n",
              " 9,\n",
              " 5,\n",
              " 2,\n",
              " 0,\n",
              " 6,\n",
              " 6,\n",
              " 1,\n",
              " 2,\n",
              " 0,\n",
              " 9,\n",
              " 7,\n",
              " 0,\n",
              " 3,\n",
              " 4,\n",
              " 4,\n",
              " 6,\n",
              " 2,\n",
              " 1,\n",
              " 6,\n",
              " 6,\n",
              " 7,\n",
              " 0,\n",
              " 9,\n",
              " 4,\n",
              " 2,\n",
              " 1,\n",
              " 5,\n",
              " 4,\n",
              " 5,\n",
              " 3,\n",
              " 8,\n",
              " 5,\n",
              " 8,\n",
              " 4,\n",
              " 4,\n",
              " 8,\n",
              " 9,\n",
              " 8,\n",
              " 6,\n",
              " 2,\n",
              " 4,\n",
              " 4,\n",
              " 2,\n",
              " 4,\n",
              " 1,\n",
              " 6,\n",
              " 1,\n",
              " 3,\n",
              " 0,\n",
              " 7,\n",
              " 8,\n",
              " 8,\n",
              " 4,\n",
              " 5,\n",
              " 3,\n",
              " 1,\n",
              " 9,\n",
              " 5,\n",
              " 3,\n",
              " 3,\n",
              " 6,\n",
              " 1,\n",
              " 6,\n",
              " 2,\n",
              " 9,\n",
              " 4,\n",
              " 0,\n",
              " 6,\n",
              " 0,\n",
              " 4,\n",
              " 2,\n",
              " 0,\n",
              " 0,\n",
              " 3,\n",
              " 3,\n",
              " 8,\n",
              " 2,\n",
              " 8,\n",
              " 9,\n",
              " 4,\n",
              " 0,\n",
              " 7,\n",
              " 2,\n",
              " 4,\n",
              " 4,\n",
              " 9,\n",
              " 2,\n",
              " 9,\n",
              " 5,\n",
              " 9,\n",
              " 3,\n",
              " 7,\n",
              " 5,\n",
              " 7,\n",
              " 8,\n",
              " 1,\n",
              " 0,\n",
              " 0,\n",
              " 3,\n",
              " 6,\n",
              " 8,\n",
              " 9,\n",
              " 7,\n",
              " 9,\n",
              " 1,\n",
              " 2,\n",
              " 7,\n",
              " 0,\n",
              " 2,\n",
              " 0,\n",
              " 5,\n",
              " 7,\n",
              " 1,\n",
              " 8,\n",
              " 2,\n",
              " 2,\n",
              " 2,\n",
              " 2,\n",
              " 4,\n",
              " 2,\n",
              " 6,\n",
              " 1,\n",
              " 9,\n",
              " 8,\n",
              " 5,\n",
              " 1,\n",
              " 9,\n",
              " 1,\n",
              " 2,\n",
              " 8,\n",
              " 3,\n",
              " 8,\n",
              " 9,\n",
              " 2,\n",
              " 2,\n",
              " 2,\n",
              " 8,\n",
              " 0,\n",
              " 2,\n",
              " 0,\n",
              " 5,\n",
              " 8,\n",
              " 8,\n",
              " 5,\n",
              " 3,\n",
              " 9,\n",
              " 4,\n",
              " 3,\n",
              " 4,\n",
              " 4,\n",
              " 5,\n",
              " 1,\n",
              " 0,\n",
              " 1,\n",
              " 2,\n",
              " 0,\n",
              " 4,\n",
              " 9,\n",
              " 6,\n",
              " 1,\n",
              " 5,\n",
              " 1,\n",
              " 1,\n",
              " 1,\n",
              " 9,\n",
              " 3,\n",
              " 6,\n",
              " 5,\n",
              " 3,\n",
              " 6,\n",
              " 6,\n",
              " 6,\n",
              " 4,\n",
              " 0,\n",
              " 0,\n",
              " 5,\n",
              " 8,\n",
              " 3,\n",
              " 4,\n",
              " 4,\n",
              " 0,\n",
              " 7,\n",
              " 7,\n",
              " 8,\n",
              " 9,\n",
              " 0,\n",
              " 2,\n",
              " 8,\n",
              " 7,\n",
              " 6,\n",
              " 7,\n",
              " 9,\n",
              " 3,\n",
              " 4,\n",
              " 6,\n",
              " 3,\n",
              " 5,\n",
              " 3,\n",
              " 1,\n",
              " 1,\n",
              " 5,\n",
              " 9,\n",
              " 4,\n",
              " 6,\n",
              " 5,\n",
              " 7,\n",
              " 8,\n",
              " 1,\n",
              " 6,\n",
              " 9,\n",
              " 7,\n",
              " 7,\n",
              " 1,\n",
              " 0,\n",
              " 9,\n",
              " 3,\n",
              " 2,\n",
              " 9,\n",
              " 6,\n",
              " 7,\n",
              " 6,\n",
              " 8,\n",
              " 2,\n",
              " 7,\n",
              " 0,\n",
              " 2,\n",
              " 3,\n",
              " 8,\n",
              " 2,\n",
              " 4,\n",
              " 6,\n",
              " 9,\n",
              " 3,\n",
              " 0,\n",
              " 7,\n",
              " 8,\n",
              " 0,\n",
              " 2,\n",
              " 9,\n",
              " 4,\n",
              " 2,\n",
              " 6,\n",
              " 6,\n",
              " 0,\n",
              " 0,\n",
              " 4,\n",
              " 4,\n",
              " 2,\n",
              " 7,\n",
              " 5,\n",
              " 8,\n",
              " 4,\n",
              " 9,\n",
              " 1,\n",
              " 0,\n",
              " 5,\n",
              " 4,\n",
              " 4,\n",
              " 4,\n",
              " 0,\n",
              " 0,\n",
              " 4,\n",
              " 5,\n",
              " 6,\n",
              " 0,\n",
              " 4,\n",
              " 5,\n",
              " 4,\n",
              " 1,\n",
              " 3,\n",
              " 1,\n",
              " 1,\n",
              " 6,\n",
              " 4,\n",
              " 3,\n",
              " 8,\n",
              " 2,\n",
              " 0,\n",
              " 6,\n",
              " 7,\n",
              " 0,\n",
              " 4,\n",
              " 0,\n",
              " 8,\n",
              " 5,\n",
              " 0,\n",
              " 8,\n",
              " 2,\n",
              " 9,\n",
              " 6,\n",
              " 8,\n",
              " 9,\n",
              " 6,\n",
              " 4,\n",
              " 2,\n",
              " 9,\n",
              " 6,\n",
              " 4,\n",
              " 5,\n",
              " 0,\n",
              " 9,\n",
              " 5,\n",
              " 3,\n",
              " 6,\n",
              " 6,\n",
              " 8,\n",
              " 3,\n",
              " 3,\n",
              " 8,\n",
              " 1,\n",
              " 4,\n",
              " 0,\n",
              " 9,\n",
              " 7,\n",
              " 7,\n",
              " 4,\n",
              " 8,\n",
              " 9,\n",
              " 1,\n",
              " 0,\n",
              " 7,\n",
              " 3,\n",
              " 0,\n",
              " 2,\n",
              " 4,\n",
              " 7,\n",
              " 1,\n",
              " 6,\n",
              " 0,\n",
              " 8,\n",
              " 7,\n",
              " 2,\n",
              " 6,\n",
              " 4,\n",
              " 6,\n",
              " 4,\n",
              " 1,\n",
              " 5,\n",
              " 9,\n",
              " 0,\n",
              " 0,\n",
              " 1,\n",
              " 6,\n",
              " 5,\n",
              " 0,\n",
              " 0,\n",
              " 3,\n",
              " 3,\n",
              " 3,\n",
              " 8,\n",
              " 1,\n",
              " 1,\n",
              " 8,\n",
              " 5,\n",
              " 7,\n",
              " 7,\n",
              " 8,\n",
              " 7,\n",
              " 2,\n",
              " 6,\n",
              " 7,\n",
              " 0,\n",
              " 8,\n",
              " 0,\n",
              " 9,\n",
              " 7,\n",
              " 6,\n",
              " 1,\n",
              " 6,\n",
              " 6,\n",
              " 4,\n",
              " 8,\n",
              " 2,\n",
              " 6,\n",
              " 3,\n",
              " 4,\n",
              " 8,\n",
              " 4,\n",
              " 0,\n",
              " 8,\n",
              " 9,\n",
              " 2,\n",
              " 4,\n",
              " 5,\n",
              " 9,\n",
              " 1,\n",
              " 4,\n",
              " 4,\n",
              " 9,\n",
              " 2,\n",
              " 1,\n",
              " 7,\n",
              " 9,\n",
              " 5,\n",
              " 8,\n",
              " 3,\n",
              " 7,\n",
              " 7,\n",
              " 1,\n",
              " 1,\n",
              " 1,\n",
              " 2,\n",
              " 9,\n",
              " 5,\n",
              " 3,\n",
              " 8,\n",
              " 4,\n",
              " 2,\n",
              " 9,\n",
              " 2,\n",
              " 8,\n",
              " 3,\n",
              " 2,\n",
              " 2,\n",
              " 4,\n",
              " 7,\n",
              " 1,\n",
              " 4,\n",
              " 9,\n",
              " 3,\n",
              " 5,\n",
              " 8,\n",
              " 5,\n",
              " 4,\n",
              " 7,\n",
              " 2,\n",
              " 8,\n",
              " 5,\n",
              " 9,\n",
              " 3,\n",
              " 3,\n",
              " 6,\n",
              " 7,\n",
              " 1,\n",
              " 7,\n",
              " 3,\n",
              " 5,\n",
              " 4,\n",
              " 4,\n",
              " 5,\n",
              " 8,\n",
              " 3,\n",
              " 7,\n",
              " 1,\n",
              " 2,\n",
              " 6,\n",
              " 1,\n",
              " 9,\n",
              " 8,\n",
              " 2,\n",
              " 7,\n",
              " 1,\n",
              " 3,\n",
              " 7,\n",
              " 5,\n",
              " 9,\n",
              " 9,\n",
              " 1,\n",
              " 8,\n",
              " 4,\n",
              " 5,\n",
              " 7,\n",
              " 1,\n",
              " 9,\n",
              " 8,\n",
              " 1,\n",
              " 0,\n",
              " 0,\n",
              " 6,\n",
              " 1,\n",
              " 7,\n",
              " 1,\n",
              " 1,\n",
              " 5,\n",
              " 7,\n",
              " 1,\n",
              " 5,\n",
              " 2,\n",
              " 2,\n",
              " 3,\n",
              " 3,\n",
              " 1,\n",
              " 1,\n",
              " 4,\n",
              " 9,\n",
              " 4,\n",
              " 3,\n",
              " 7,\n",
              " 7,\n",
              " 6,\n",
              " 8,\n",
              " 9,\n",
              " 9,\n",
              " 6,\n",
              " 1,\n",
              " 3,\n",
              " 3,\n",
              " 0,\n",
              " 3,\n",
              " 5,\n",
              " 9,\n",
              " 4,\n",
              " 0,\n",
              " 5,\n",
              " 5,\n",
              " 1,\n",
              " 9,\n",
              " 7,\n",
              " 8,\n",
              " 7,\n",
              " 9,\n",
              " 3,\n",
              " 6,\n",
              " 6,\n",
              " 0,\n",
              " 4,\n",
              " 0,\n",
              " 6,\n",
              " 0,\n",
              " 2,\n",
              " 5,\n",
              " 5,\n",
              " 1,\n",
              " 2,\n",
              " 0,\n",
              " 9,\n",
              " 3,\n",
              " 7,\n",
              " 6,\n",
              " 4,\n",
              " 8,\n",
              " 3,\n",
              " 4,\n",
              " 7,\n",
              " 0,\n",
              " 7,\n",
              " 4,\n",
              " 8,\n",
              " 0,\n",
              " 3,\n",
              " 4,\n",
              " 4,\n",
              " 3,\n",
              " 6,\n",
              " 9,\n",
              " 6,\n",
              " 8,\n",
              " 4,\n",
              " 9,\n",
              " 1,\n",
              " 8,\n",
              " 1,\n",
              " 7,\n",
              " 5,\n",
              " 5,\n",
              " 6,\n",
              " 6,\n",
              " 2,\n",
              " 1,\n",
              " 0,\n",
              " 5,\n",
              " 4,\n",
              " 0,\n",
              " 0,\n",
              " 6,\n",
              " 7,\n",
              " 5,\n",
              " 0,\n",
              " 3,\n",
              " 5,\n",
              " 9,\n",
              " 6,\n",
              " 8,\n",
              " 6,\n",
              " 6,\n",
              " 4,\n",
              " 6,\n",
              " 2,\n",
              " 9,\n",
              " 0,\n",
              " 7,\n",
              " 7,\n",
              " 1,\n",
              " 4,\n",
              " 4,\n",
              " 6,\n",
              " 5,\n",
              " 0,\n",
              " 9,\n",
              " 9,\n",
              " 8,\n",
              " 8,\n",
              " 3,\n",
              " 6,\n",
              " 2,\n",
              " 4,\n",
              " 6,\n",
              " 6,\n",
              " 3,\n",
              " 2,\n",
              " 3,\n",
              " 5,\n",
              " 6,\n",
              " 9,\n",
              " 3,\n",
              " 4,\n",
              " 7,\n",
              " 7,\n",
              " ...]"
            ]
          },
          "metadata": {},
          "execution_count": 24
        }
      ]
    },
    {
      "cell_type": "code",
      "source": [
        "len(y_pred_test)"
      ],
      "metadata": {
        "colab": {
          "base_uri": "https://localhost:8080/"
        },
        "id": "_uNBa0KTVmip",
        "outputId": "3cbb7c7f-39fd-41d1-95ad-6b6f0e30b9e4"
      },
      "execution_count": 25,
      "outputs": [
        {
          "output_type": "execute_result",
          "data": {
            "text/plain": [
              "10000"
            ]
          },
          "metadata": {},
          "execution_count": 25
        }
      ]
    },
    {
      "cell_type": "code",
      "source": [
        "from sklearn.metrics import classification_report"
      ],
      "metadata": {
        "id": "hVKH5zIAVr9P"
      },
      "execution_count": 26,
      "outputs": []
    },
    {
      "cell_type": "code",
      "source": [
        "print(classification_report(y_test,y_pred_test))"
      ],
      "metadata": {
        "colab": {
          "base_uri": "https://localhost:8080/"
        },
        "id": "c8JsL8U0V1tU",
        "outputId": "d46380c7-4650-4ec7-8df7-87ac38d9ce8a"
      },
      "execution_count": 30,
      "outputs": [
        {
          "output_type": "stream",
          "name": "stdout",
          "text": [
            "              precision    recall  f1-score   support\n",
            "\n",
            "           0       0.83      0.86      0.85      1000\n",
            "           1       0.99      0.98      0.98      1000\n",
            "           2       0.83      0.79      0.81      1000\n",
            "           3       0.88      0.91      0.90      1000\n",
            "           4       0.82      0.81      0.81      1000\n",
            "           5       0.97      0.97      0.97      1000\n",
            "           6       0.73      0.72      0.72      1000\n",
            "           7       0.95      0.96      0.95      1000\n",
            "           8       0.96      0.98      0.97      1000\n",
            "           9       0.97      0.95      0.96      1000\n",
            "\n",
            "    accuracy                           0.89     10000\n",
            "   macro avg       0.89      0.89      0.89     10000\n",
            "weighted avg       0.89      0.89      0.89     10000\n",
            "\n"
          ]
        }
      ]
    },
    {
      "cell_type": "code",
      "source": [
        "from keras.engine.training import optimizer\n",
        "from keras.api._v2.keras import activations\n",
        "model_2=keras.Sequential([\n",
        "    keras.layers.Flatten(input_shape=(28,28)),\n",
        "    keras.layers.Dense(300,activation='relu'),\n",
        "    keras.layers.Dropout(.4),\n",
        "    keras.layers.Dense(500,activation='relu'),\n",
        "    keras.layers.Dropout(.5),\n",
        "    keras.layers.Dense(100,activation='relu'),\n",
        "    keras.layers.Dropout(.3),\n",
        "    keras.layers.Dense(10,activation='softmax')\n",
        "\n",
        "])\n",
        "model_2.compile(optimizer='adam',loss='sparse_categorical_crossentropy',metrics=['accuracy'])"
      ],
      "metadata": {
        "id": "KYYNzZyuWPSQ"
      },
      "execution_count": 31,
      "outputs": []
    },
    {
      "cell_type": "code",
      "source": [
        "model_2.summary()"
      ],
      "metadata": {
        "colab": {
          "base_uri": "https://localhost:8080/"
        },
        "id": "Ebk-b06-WnCv",
        "outputId": "08fe7287-0e69-464f-e525-4f34e0de7d9c"
      },
      "execution_count": 32,
      "outputs": [
        {
          "output_type": "stream",
          "name": "stdout",
          "text": [
            "Model: \"sequential_3\"\n",
            "_________________________________________________________________\n",
            " Layer (type)                Output Shape              Param #   \n",
            "=================================================================\n",
            " flatten_3 (Flatten)         (None, 784)               0         \n",
            "                                                                 \n",
            " dense_12 (Dense)            (None, 300)               235500    \n",
            "                                                                 \n",
            " dropout_3 (Dropout)         (None, 300)               0         \n",
            "                                                                 \n",
            " dense_13 (Dense)            (None, 500)               150500    \n",
            "                                                                 \n",
            " dropout_4 (Dropout)         (None, 500)               0         \n",
            "                                                                 \n",
            " dense_14 (Dense)            (None, 100)               50100     \n",
            "                                                                 \n",
            " dropout_5 (Dropout)         (None, 100)               0         \n",
            "                                                                 \n",
            " dense_15 (Dense)            (None, 10)                1010      \n",
            "                                                                 \n",
            "=================================================================\n",
            "Total params: 437,110\n",
            "Trainable params: 437,110\n",
            "Non-trainable params: 0\n",
            "_________________________________________________________________\n"
          ]
        }
      ]
    },
    {
      "cell_type": "code",
      "source": [
        "model_2.fit(x_train_scaled,y_train,epochs=50)"
      ],
      "metadata": {
        "colab": {
          "base_uri": "https://localhost:8080/"
        },
        "id": "6uq4HbS4W2k_",
        "outputId": "4ec67a22-e18d-428b-d59c-10dc86866aaa"
      },
      "execution_count": 33,
      "outputs": [
        {
          "output_type": "stream",
          "name": "stdout",
          "text": [
            "Epoch 1/50\n",
            "1875/1875 [==============================] - 7s 3ms/step - loss: 0.6493 - accuracy: 0.7681\n",
            "Epoch 2/50\n",
            "1875/1875 [==============================] - 6s 3ms/step - loss: 0.4940 - accuracy: 0.8244\n",
            "Epoch 3/50\n",
            "1875/1875 [==============================] - 6s 3ms/step - loss: 0.4563 - accuracy: 0.8388\n",
            "Epoch 4/50\n",
            "1875/1875 [==============================] - 6s 3ms/step - loss: 0.4334 - accuracy: 0.8471\n",
            "Epoch 5/50\n",
            "1875/1875 [==============================] - 6s 3ms/step - loss: 0.4207 - accuracy: 0.8512\n",
            "Epoch 6/50\n",
            "1875/1875 [==============================] - 6s 3ms/step - loss: 0.4073 - accuracy: 0.8567\n",
            "Epoch 7/50\n",
            "1875/1875 [==============================] - 6s 3ms/step - loss: 0.4036 - accuracy: 0.8565\n",
            "Epoch 8/50\n",
            "1875/1875 [==============================] - 7s 4ms/step - loss: 0.3956 - accuracy: 0.8595\n",
            "Epoch 9/50\n",
            "1875/1875 [==============================] - 6s 3ms/step - loss: 0.3877 - accuracy: 0.8626\n",
            "Epoch 10/50\n",
            "1875/1875 [==============================] - 8s 4ms/step - loss: 0.3767 - accuracy: 0.8655\n",
            "Epoch 11/50\n",
            "1875/1875 [==============================] - 6s 3ms/step - loss: 0.3730 - accuracy: 0.8671\n",
            "Epoch 12/50\n",
            "1875/1875 [==============================] - 6s 3ms/step - loss: 0.3653 - accuracy: 0.8686\n",
            "Epoch 13/50\n",
            "1875/1875 [==============================] - 6s 3ms/step - loss: 0.3630 - accuracy: 0.8689\n",
            "Epoch 14/50\n",
            "1875/1875 [==============================] - 7s 4ms/step - loss: 0.3609 - accuracy: 0.8705\n",
            "Epoch 15/50\n",
            "1875/1875 [==============================] - 6s 3ms/step - loss: 0.3598 - accuracy: 0.8712\n",
            "Epoch 16/50\n",
            "1875/1875 [==============================] - 6s 3ms/step - loss: 0.3558 - accuracy: 0.8744\n",
            "Epoch 17/50\n",
            "1875/1875 [==============================] - 6s 3ms/step - loss: 0.3499 - accuracy: 0.8756\n",
            "Epoch 18/50\n",
            "1875/1875 [==============================] - 6s 3ms/step - loss: 0.3500 - accuracy: 0.8761\n",
            "Epoch 19/50\n",
            "1875/1875 [==============================] - 6s 3ms/step - loss: 0.3400 - accuracy: 0.8784\n",
            "Epoch 20/50\n",
            "1875/1875 [==============================] - 6s 3ms/step - loss: 0.3450 - accuracy: 0.8773\n",
            "Epoch 21/50\n",
            "1875/1875 [==============================] - 7s 4ms/step - loss: 0.3410 - accuracy: 0.8779\n",
            "Epoch 22/50\n",
            "1875/1875 [==============================] - 10s 6ms/step - loss: 0.3325 - accuracy: 0.8820\n",
            "Epoch 23/50\n",
            "1875/1875 [==============================] - 10s 6ms/step - loss: 0.3406 - accuracy: 0.8791\n",
            "Epoch 24/50\n",
            "1875/1875 [==============================] - 10s 6ms/step - loss: 0.3300 - accuracy: 0.8811\n",
            "Epoch 25/50\n",
            "1875/1875 [==============================] - 10s 5ms/step - loss: 0.3342 - accuracy: 0.8805\n",
            "Epoch 26/50\n",
            "1875/1875 [==============================] - 6s 3ms/step - loss: 0.3288 - accuracy: 0.8834\n",
            "Epoch 27/50\n",
            "1875/1875 [==============================] - 9s 5ms/step - loss: 0.3279 - accuracy: 0.8831\n",
            "Epoch 28/50\n",
            "1875/1875 [==============================] - 8s 4ms/step - loss: 0.3238 - accuracy: 0.8852\n",
            "Epoch 29/50\n",
            "1875/1875 [==============================] - 8s 4ms/step - loss: 0.3210 - accuracy: 0.8845\n",
            "Epoch 30/50\n",
            "1875/1875 [==============================] - 10s 5ms/step - loss: 0.3241 - accuracy: 0.8831\n",
            "Epoch 31/50\n",
            "1875/1875 [==============================] - 8s 4ms/step - loss: 0.3233 - accuracy: 0.8862\n",
            "Epoch 32/50\n",
            "1875/1875 [==============================] - 7s 4ms/step - loss: 0.3233 - accuracy: 0.8856\n",
            "Epoch 33/50\n",
            "1875/1875 [==============================] - 9s 5ms/step - loss: 0.3150 - accuracy: 0.8886\n",
            "Epoch 34/50\n",
            "1875/1875 [==============================] - 9s 5ms/step - loss: 0.3169 - accuracy: 0.8879\n",
            "Epoch 35/50\n",
            "1875/1875 [==============================] - 7s 4ms/step - loss: 0.3127 - accuracy: 0.8897\n",
            "Epoch 36/50\n",
            "1875/1875 [==============================] - 6s 3ms/step - loss: 0.3181 - accuracy: 0.8881\n",
            "Epoch 37/50\n",
            "1875/1875 [==============================] - 6s 3ms/step - loss: 0.3137 - accuracy: 0.8884\n",
            "Epoch 38/50\n",
            "1875/1875 [==============================] - 7s 4ms/step - loss: 0.3109 - accuracy: 0.8883\n",
            "Epoch 39/50\n",
            "1875/1875 [==============================] - 7s 4ms/step - loss: 0.3115 - accuracy: 0.8887\n",
            "Epoch 40/50\n",
            "1875/1875 [==============================] - 6s 3ms/step - loss: 0.3118 - accuracy: 0.8900\n",
            "Epoch 41/50\n",
            "1875/1875 [==============================] - 6s 3ms/step - loss: 0.3082 - accuracy: 0.8898\n",
            "Epoch 42/50\n",
            "1875/1875 [==============================] - 6s 3ms/step - loss: 0.3072 - accuracy: 0.8913\n",
            "Epoch 43/50\n",
            "1875/1875 [==============================] - 6s 3ms/step - loss: 0.3086 - accuracy: 0.8910\n",
            "Epoch 44/50\n",
            "1875/1875 [==============================] - 6s 3ms/step - loss: 0.3011 - accuracy: 0.8925\n",
            "Epoch 45/50\n",
            "1875/1875 [==============================] - 6s 3ms/step - loss: 0.3004 - accuracy: 0.8930\n",
            "Epoch 46/50\n",
            "1875/1875 [==============================] - 6s 3ms/step - loss: 0.3021 - accuracy: 0.8910\n",
            "Epoch 47/50\n",
            "1875/1875 [==============================] - 6s 3ms/step - loss: 0.3006 - accuracy: 0.8935\n",
            "Epoch 48/50\n",
            "1875/1875 [==============================] - 6s 3ms/step - loss: 0.3006 - accuracy: 0.8928\n",
            "Epoch 49/50\n",
            "1875/1875 [==============================] - 6s 3ms/step - loss: 0.2997 - accuracy: 0.8936\n",
            "Epoch 50/50\n",
            "1875/1875 [==============================] - 6s 3ms/step - loss: 0.2970 - accuracy: 0.8945\n"
          ]
        },
        {
          "output_type": "execute_result",
          "data": {
            "text/plain": [
              "<keras.callbacks.History at 0x7f7254517c10>"
            ]
          },
          "metadata": {},
          "execution_count": 33
        }
      ]
    },
    {
      "cell_type": "code",
      "source": [
        "y_pred=model_2.predict(x_test_scaled)"
      ],
      "metadata": {
        "colab": {
          "base_uri": "https://localhost:8080/"
        },
        "id": "gMLCDFfJYD44",
        "outputId": "07c116c4-0dfc-4974-f134-d4fc10824c2e"
      },
      "execution_count": 34,
      "outputs": [
        {
          "output_type": "stream",
          "name": "stdout",
          "text": [
            "313/313 [==============================] - 1s 2ms/step\n"
          ]
        }
      ]
    },
    {
      "cell_type": "code",
      "source": [
        "y_pred_test=[np.argmax(i) for i in y_pred]"
      ],
      "metadata": {
        "id": "pdazH-HBYPsD"
      },
      "execution_count": 35,
      "outputs": []
    },
    {
      "cell_type": "code",
      "source": [
        "print(classification_report)"
      ],
      "metadata": {
        "id": "MHDF3leQYcgs"
      },
      "execution_count": null,
      "outputs": []
    },
    {
      "cell_type": "code",
      "source": [
        "print(classification_report(y_test,y_pred_test))"
      ],
      "metadata": {
        "colab": {
          "base_uri": "https://localhost:8080/"
        },
        "outputId": "7ded8ad8-835c-4624-86f2-43f00cea6aae",
        "id": "MAukspskZIHu"
      },
      "execution_count": 36,
      "outputs": [
        {
          "output_type": "stream",
          "name": "stdout",
          "text": [
            "              precision    recall  f1-score   support\n",
            "\n",
            "           0       0.87      0.80      0.83      1000\n",
            "           1       0.99      0.97      0.98      1000\n",
            "           2       0.78      0.83      0.80      1000\n",
            "           3       0.88      0.88      0.88      1000\n",
            "           4       0.80      0.80      0.80      1000\n",
            "           5       0.98      0.96      0.97      1000\n",
            "           6       0.68      0.71      0.70      1000\n",
            "           7       0.93      0.98      0.95      1000\n",
            "           8       0.98      0.97      0.97      1000\n",
            "           9       0.97      0.95      0.96      1000\n",
            "\n",
            "    accuracy                           0.88     10000\n",
            "   macro avg       0.89      0.88      0.89     10000\n",
            "weighted avg       0.89      0.88      0.89     10000\n",
            "\n"
          ]
        }
      ]
    }
  ]
}